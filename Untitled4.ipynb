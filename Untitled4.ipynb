{
  "nbformat": 4,
  "nbformat_minor": 0,
  "metadata": {
    "colab": {
      "name": "Untitled4.ipynb",
      "provenance": [],
      "mount_file_id": "1udgktIw8ogLwqa8XSnIxq_4sMrzzp1M1",
      "authorship_tag": "ABX9TyMLhttC4Yollnw0y0DpMK+h",
      "include_colab_link": true
    },
    "kernelspec": {
      "name": "python3",
      "display_name": "Python 3"
    },
    "language_info": {
      "name": "python"
    }
  },
  "cells": [
    {
      "cell_type": "markdown",
      "metadata": {
        "id": "view-in-github",
        "colab_type": "text"
      },
      "source": [
        "<a href=\"https://colab.research.google.com/github/gppcompl2/libDrive/blob/main/Untitled4.ipynb\" target=\"_parent\"><img src=\"https://colab.research.google.com/assets/colab-badge.svg\" alt=\"Open In Colab\"/></a>"
      ]
    },
    {
      "cell_type": "code",
      "execution_count": null,
      "metadata": {
        "id": "P5WEcw_h0a_K"
      },
      "outputs": [],
      "source": [
        "!pip install ffmpeg\n",
        "!pip install yt-dlp"
      ]
    },
    {
      "cell_type": "code",
      "source": [
        "cd /content"
      ],
      "metadata": {
        "id": "yCWR17TR02c7"
      },
      "execution_count": null,
      "outputs": []
    },
    {
      "cell_type": "code",
      "source": [
        "!yt-dlp https://www.youtube.com/watch?v=FgQh9x81LLU -f mp4 "
      ],
      "metadata": {
        "colab": {
          "base_uri": "https://localhost:8080/"
        },
        "id": "dh1u_2Np0osb",
        "outputId": "89b200fd-f79a-4a7d-9b35-bae175ec68ae"
      },
      "execution_count": null,
      "outputs": [
        {
          "output_type": "stream",
          "name": "stdout",
          "text": [
            "\u001b[K[download] \u001b[0;94m 77.9%\u001b[0m of ~1.83GiB at \u001b[0;32m   1.39MiB/s\u001b[0m ETA \u001b[0;33m05:06\u001b[0m (frag 2244/2881)"
          ]
        }
      ]
    }
  ]
}